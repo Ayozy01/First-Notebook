{
 "cells": [
  {
   "cell_type": "code",
   "execution_count": 1,
   "id": "0d9b05a8",
   "metadata": {},
   "outputs": [
    {
     "name": "stdout",
     "output_type": "stream",
     "text": [
      "Hello World\n"
     ]
    }
   ],
   "source": [
    "# i want to print Hello Word\n",
    "print(\"Hello World\")"
   ]
  },
  {
   "cell_type": "code",
   "execution_count": 2,
   "id": "f04d4ae1",
   "metadata": {},
   "outputs": [],
   "source": [
    "student = \"Lawrence\""
   ]
  },
  {
   "cell_type": "code",
   "execution_count": 3,
   "id": "84e4839d",
   "metadata": {},
   "outputs": [
    {
     "name": "stdout",
     "output_type": "stream",
     "text": [
      "Lawrence\n"
     ]
    }
   ],
   "source": [
    "print(student)"
   ]
  },
  {
   "cell_type": "code",
   "execution_count": 4,
   "id": "24270a50",
   "metadata": {},
   "outputs": [
    {
     "name": "stdout",
     "output_type": "stream",
     "text": [
      "What is your name: lawrence\n",
      "\n",
      "lawrence\n"
     ]
    }
   ],
   "source": [
    "# i want to print name\n",
    "name = input(\"What is your name: \")\n",
    "print()\n",
    "print(name)"
   ]
  },
  {
   "cell_type": "code",
   "execution_count": 5,
   "id": "ee926f78",
   "metadata": {},
   "outputs": [
    {
     "name": "stdout",
     "output_type": "stream",
     "text": [
      "Date of Birth: feb\n",
      "feb\n"
     ]
    }
   ],
   "source": [
    "DOB = input( \"Date of Birth: \")\n",
    "print(DOB)"
   ]
  },
  {
   "cell_type": "code",
   "execution_count": 6,
   "id": "490230d4",
   "metadata": {},
   "outputs": [
    {
     "name": "stdout",
     "output_type": "stream",
     "text": [
      "<class 'str'>\n"
     ]
    }
   ],
   "source": [
    "print(type (DOB))"
   ]
  },
  {
   "cell_type": "code",
   "execution_count": 7,
   "id": "a7e58c87",
   "metadata": {},
   "outputs": [
    {
     "name": "stdout",
     "output_type": "stream",
     "text": [
      "Age: 26\n",
      "26\n"
     ]
    }
   ],
   "source": [
    "Age = input(\"Age: \")\n",
    "print(Age)\n"
   ]
  },
  {
   "cell_type": "code",
   "execution_count": 8,
   "id": "68c5df3b",
   "metadata": {},
   "outputs": [
    {
     "name": "stdout",
     "output_type": "stream",
     "text": [
      "<class 'str'>\n"
     ]
    }
   ],
   "source": [
    "print(type(Age))"
   ]
  },
  {
   "cell_type": "code",
   "execution_count": 9,
   "id": "302277f0",
   "metadata": {},
   "outputs": [],
   "source": [
    "boolean =True"
   ]
  },
  {
   "cell_type": "code",
   "execution_count": 10,
   "id": "8a123baf",
   "metadata": {},
   "outputs": [
    {
     "name": "stdout",
     "output_type": "stream",
     "text": [
      "<class 'bool'>\n"
     ]
    }
   ],
   "source": [
    "print(type(boolean))"
   ]
  },
  {
   "cell_type": "code",
   "execution_count": 11,
   "id": "b33d5877",
   "metadata": {},
   "outputs": [
    {
     "name": "stdout",
     "output_type": "stream",
     "text": [
      "lawrence is 26 years old\n"
     ]
    }
   ],
   "source": [
    "print(f\"{name} is {Age} years old\")"
   ]
  },
  {
   "cell_type": "code",
   "execution_count": 12,
   "id": "3a9e225c",
   "metadata": {},
   "outputs": [
    {
     "data": {
      "text/plain": [
       "'LAWRENCE'"
      ]
     },
     "execution_count": 12,
     "metadata": {},
     "output_type": "execute_result"
    }
   ],
   "source": [
    "student.capitalize()\n",
    "student.upper()"
   ]
  },
  {
   "cell_type": "code",
   "execution_count": 13,
   "id": "b781844a",
   "metadata": {},
   "outputs": [
    {
     "name": "stdout",
     "output_type": "stream",
     "text": [
      "Lawrence Ayodele\n",
      "Hello, Lawrence Ayodele!\n"
     ]
    }
   ],
   "source": [
    "#first line i am defining my variable and \n",
    "#i use print function to display my varible\n",
    "#and wrap with Hello\n",
    "full_name = (\"Lawrence Ayodele\")\n",
    "print(full_name)\n",
    "print(f\"Hello, {full_name}!\")\n"
   ]
  },
  {
   "cell_type": "code",
   "execution_count": 14,
   "id": "20346e1e",
   "metadata": {},
   "outputs": [
    {
     "name": "stdout",
     "output_type": "stream",
     "text": [
      "Hello, {full_name} !\n"
     ]
    }
   ],
   "source": [
    "print(\"Hello, {full_name} !\")"
   ]
  },
  {
   "cell_type": "code",
   "execution_count": 15,
   "id": "64131432",
   "metadata": {},
   "outputs": [
    {
     "name": "stdout",
     "output_type": "stream",
     "text": [
      "68°F is equal to 20.0°C\n"
     ]
    }
   ],
   "source": [
    "# i define my variables\n",
    "# i define my second variable and create my formular\n",
    "#i used the print function to view my answer and f function to format my varaibles\n",
    "fahrenheit_temp = 68\n",
    "celsius = (fahrenheit_temp - 32) / 1.8\n",
    "print(f\"{fahrenheit_temp}°F is equal to {celsius}°C\")"
   ]
  },
  {
   "cell_type": "code",
   "execution_count": 29,
   "id": "e4154fb3",
   "metadata": {},
   "outputs": [
    {
     "name": "stdout",
     "output_type": "stream",
     "text": [
      "type your Score: 70\n",
      "Good\n"
     ]
    }
   ],
   "source": [
    "Student_Score =int(input(\"type your Score: \"))\n",
    "if Student_Score >= 90:\n",
    "    print(\"Excellent\")\n",
    "elif Student_Score >=  70 and Student_Score <= 89:\n",
    "    print(\"Good\")\n",
    "elif Stundent_Score >= 60 and Student_Score <= 69:\n",
    "    print(\"Average\")\n",
    "elif  Student_Score < 50:\n",
    "    print(\"Below Average\")"
   ]
  },
  {
   "cell_type": "code",
   "execution_count": 26,
   "id": "1cab9546",
   "metadata": {},
   "outputs": [
    {
     "ename": "SyntaxError",
     "evalue": "expected ':' (2466289647.py, line 8)",
     "output_type": "error",
     "traceback": [
      "\u001b[1;36m  Cell \u001b[1;32mIn[26], line 8\u001b[1;36m\u001b[0m\n\u001b[1;33m    else  Student_Score < 50:\u001b[0m\n\u001b[1;37m          ^\u001b[0m\n\u001b[1;31mSyntaxError\u001b[0m\u001b[1;31m:\u001b[0m expected ':'\n"
     ]
    }
   ],
   "source": [
    "Student_Score = 90\n",
    "if Student_Score >= 90:\n",
    "    print(\"Excellent\")\n",
    "elif Student_Score >=  70 and Student_Score <= 89:\n",
    "    print(\"Good\")\n",
    "elif Stundent_Score >= 60 and Student_Score <= 69:\n",
    "    print(\"Average\")\n",
    "else  Student_Score < 50:\n",
    "    print(\"Below Average\")"
   ]
  },
  {
   "cell_type": "code",
   "execution_count": null,
   "id": "9917b697",
   "metadata": {},
   "outputs": [],
   "source": []
  }
 ],
 "metadata": {
  "kernelspec": {
   "display_name": "Python 3 (ipykernel)",
   "language": "python",
   "name": "python3"
  },
  "language_info": {
   "codemirror_mode": {
    "name": "ipython",
    "version": 3
   },
   "file_extension": ".py",
   "mimetype": "text/x-python",
   "name": "python",
   "nbconvert_exporter": "python",
   "pygments_lexer": "ipython3",
   "version": "3.11.3"
  }
 },
 "nbformat": 4,
 "nbformat_minor": 5
}
